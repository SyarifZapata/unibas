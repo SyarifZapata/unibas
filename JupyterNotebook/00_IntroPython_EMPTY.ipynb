{
 "cells": [
  {
   "cell_type": "markdown",
   "metadata": {},
   "source": [
    "# 00: Short and Incomplete Introduction to Python (and some MATLAB)\n",
    "\n",
    "### Notebook accompanying  the [Scientific Computing Lecture HS 2017](http://informatik.unibas.ch/hs2017/hauptvorlesung-scientific-computing/)\n",
    "#### Tutorial by [Sebastian Mathias Keller](http://bmda.cs.unibas.ch/)\n",
    "#### University of Basel [Institute for Mathematics and Computer Science](http://informatik.unibas.ch/)"
   ]
  },
  {
   "cell_type": "markdown",
   "metadata": {},
   "source": [
    "## Table of contents\n",
    "\n",
    "1. [Organization of the Tutorial](#Organization-of-the-Tutorial)\n",
    "\n",
    "2. [Python and Required libraries](#Python-and-Required-libraries)\n",
    "\n",
    "3. [A Python Program with Vectorization and Plotting](#A Python Program with Vectorization and Plotting)\n",
    "\n",
    "4. [Basic Constructions](#Basic-Constructions)\n",
    "\n",
    "    - [If Tests, Colon and Indentation](#If-Tests,-Colon-and-Indentation)\n",
    "\n",
    "    - [Functions](#Functions)\n",
    "\n",
    "    - [For Loops](#For-Loops)\n",
    "    \n",
    "    - [While Loops](#While-Loops)\n",
    "\n",
    "    - [Lists and Tuples - Alternatives to Arrays](#Lists-and-Tuples---Alternatives-to-Arrays)\n",
    "\n",
    "    - [Reading from and Writing to Files](#Reading-from-and-Writing-to-Files)\n",
    "    \n",
    "5. [MATLAB commands in Python](#MATLAB-commands-in-Python)\n",
    "6. [Linear Systems of Equations](#Linear-Systems-of-Equations)\n",
    "7. [Not covered but relevant...](#Not-covered-but-relevant...)\n",
    "8. [Further reading and references](#Further-reading-and-references)"
   ]
  },
  {
   "cell_type": "markdown",
   "metadata": {},
   "source": [
    " ## Organization of the Tutorial\n",
    " \n",
    " [[ go back to the top ]](#Table-of-contents)\n",
    " \n",
    "- Tutorial based on Jupyter Notebooks\n",
    "- Tutorial and Tutorial Exercises are connected (!)\n",
    "- Tutorial is voluntary but a good exam preparation...\n",
    "- Topics covered:\n",
    "    - Linear Systems of Equations\n",
    "    - Least squares problems\n",
    "    - Linear Dimensionality Reduction and Eigenvalue Problems\n",
    "    - Linear Programming\n",
    "    - Optimization without Gradients\n",
    "    - Dynamic Programming\n",
    "- Tutorial: CLab U1.001, Thur 16:15-18:00 OR Fri 10:15-12:00\n",
    "- Tutorial Materials: [ADAM](https://adam.unibas.ch)\n",
    "- EXAM: Wednesday, 24 January 2018, 9-11 a.m., Room: U 101, Alte Universität"
   ]
  },
  {
   "cell_type": "markdown",
   "metadata": {},
   "source": [
    "**This notebook is intended to be a useful resource. As such, if you see any glaring inaccuracies or if a critical\n",
    "topic is missing, please feel free to point it out!**"
   ]
  },
  {
   "cell_type": "markdown",
   "metadata": {},
   "source": [
    "## Python and Required libraries\n",
    "\n",
    "[[ go back to the top ]](#Table-of-contents)\n",
    "\n",
    "If you don't have Python on your computer, you can use the [Anaconda Python distribution](http://continuum.io/downloads) to install most of the Python packages you need. Anaconda provides a simple double-click installer for your convenience.\n",
    "\n",
    "This notebook uses several Python packages that come standard with the Anaconda Python distribution. The primary libraries that we'll be using are:\n",
    "\n",
    "* **NumPy**: Provides a fast numerical array structure and helper functions.\n",
    "\n",
    "  `import numpy as np`\n",
    "  \n",
    "  \n",
    "* **pandas**: Provides a DataFrame structure to store data in memory and work with it easily and efficiently.\n",
    "\n",
    "  `import pandas as pd`\n",
    "  \n",
    "  \n",
    "* **scikit-learn**: The essential Machine Learning package in Python.\n",
    "\n",
    "  `from sklearn import x`\n",
    "\n",
    "\n",
    "* **matplotlib**: Basic plotting library in Python; most other Python plotting libraries are built on top of it.\n",
    "\n",
    "  `import matplotlib.pyplot as plt`\n",
    "  \n",
    "  \n",
    "\n",
    "\n",
    "To make sure you have all of the packages you need, install them with `conda`:\n",
    "\n",
    "    conda install numpy pandas scikit-learn matplotlib\n",
    "\n",
    "`conda` may ask you to update some of them if you don't have the most recent version. Allow it to do so.\n",
    "\n",
    "**Note:** I will not be providing support for people trying to run this notebook outside of the Anaconda Python distribution."
   ]
  },
  {
   "cell_type": "markdown",
   "metadata": {},
   "source": [
    "## A Python Program with Vectorization and Plotting\n",
    "\n",
    "[[ go back to the top ]](#Table-of-contents)"
   ]
  },
  {
   "cell_type": "code",
   "execution_count": 1,
   "metadata": {},
   "outputs": [
    {
     "name": "stdout",
     "output_type": "stream",
     "text": [
      "Hello World\n"
     ]
    }
   ],
   "source": [
    "print('Hello World')"
   ]
  },
  {
   "cell_type": "markdown",
   "metadata": {},
   "source": [
    "A ball is thrown up in the air and we have a formula for the vertical\n",
    "position y of the ball. Say we are interested in y at every millisecond\n",
    "for the first second of the flight. This requires repeating the calculation of\n",
    "$y=v_0t-0.5gt^2$ one thousand times.\n",
    "\n",
    "The value returned from `linspace` (being stored in `t` ) is an **array**, i.e., a collection of\n",
    "numbers. When we start computing with this collection of numbers in the\n",
    "arithmetic expression $y=v_0t-0.5gt^2$, the expression is calculated for every\n",
    "number in `t`."
   ]
  },
  {
   "cell_type": "markdown",
   "metadata": {},
   "source": [
    "## Basic Constructions\n",
    "\n",
    "[[ go back to the top ]](#Table-of-contents)\n",
    "\n",
    "### If Tests, Colon and Indentation\n",
    "\n",
    "[[ go back to the top ]](#Table-of-contents)"
   ]
  },
  {
   "cell_type": "code",
   "execution_count": null,
   "metadata": {
    "collapsed": true
   },
   "outputs": [],
   "source": [
    "# Moving in different directions...\n",
    "\n",
    "import random\n",
    "\n",
    "r = random.random()      # random number in [0,1)\n",
    "\n",
    "x=0\n",
    "y=0\n",
    "d=1\n",
    "\n",
    "if 0 <= r < 0.25:\n",
    "    # move to ...?\n",
    "    y = y + d\n",
    "elif 0.25 <= r < 0.5:\n",
    "    # move to ...?\n",
    "    x = x + d\n",
    "elif 0.5 <= r < 0.75:\n",
    "    # move to ...?\n",
    "    y = y - d\n",
    "else:\n",
    "    # move to ...?\n",
    "    x = x - d\n",
    "\n",
    "print(\"new coord:\", x,y)"
   ]
  },
  {
   "cell_type": "markdown",
   "metadata": {},
   "source": [
    "### Functions\n",
    "\n",
    "[[ go back to the top ]](#Table-of-contents)"
   ]
  },
  {
   "cell_type": "code",
   "execution_count": null,
   "metadata": {
    "collapsed": true
   },
   "outputs": [],
   "source": [
    "# function definition in Python"
   ]
  },
  {
   "cell_type": "markdown",
   "metadata": {},
   "source": [
    "### For Loops\n",
    "\n",
    "[[ go back to the top ]](#Table-of-contents)"
   ]
  },
  {
   "cell_type": "code",
   "execution_count": null,
   "metadata": {
    "collapsed": true
   },
   "outputs": [],
   "source": []
  },
  {
   "cell_type": "code",
   "execution_count": null,
   "metadata": {
    "collapsed": true
   },
   "outputs": [],
   "source": []
  },
  {
   "cell_type": "code",
   "execution_count": null,
   "metadata": {
    "collapsed": true
   },
   "outputs": [],
   "source": []
  },
  {
   "cell_type": "code",
   "execution_count": null,
   "metadata": {
    "collapsed": true
   },
   "outputs": [],
   "source": [
    "from numpy import linspace\n",
    "import matplotlib.pyplot as plt\n",
    "\n",
    "v0 = 5                    # Initial velocity\n",
    "g = 9.81                  # Acceleration of gravity\n",
    "t = linspace(0, 1, 1000)  # 1000 points in time interval\n",
    "y = v0*t - 0.5*g*t**2     # Generate all heights\n",
    "\n",
    "# At this point, the array y with all the heights is ready.\n",
    "# Now we need to find the largest value within y.\n",
    "\n",
    "largest_height = y[0]          # Starting value for search\n",
    "for i in range(1, 1000):\n",
    "    if y[i] > largest_height:\n",
    "        largest_height = y[i]\n",
    "        \n",
    "print(\"The largest height achieved was %f m\" % (largest_height))\n",
    "\n",
    "# We might also like to plot the path again just to compare\n",
    "plt.plot(t,y)\n",
    "plt.xlabel('Time (s)')\n",
    "plt.ylabel('Height (m)')\n",
    "plt.grid()\n",
    "plt.show()"
   ]
  },
  {
   "cell_type": "markdown",
   "metadata": {},
   "source": [
    "### While Loops\n",
    "\n",
    "[[ go back to the top ]](#Table-of-contents)"
   ]
  },
  {
   "cell_type": "code",
   "execution_count": null,
   "metadata": {
    "collapsed": true
   },
   "outputs": [],
   "source": [
    "from numpy import linspace\n",
    "\n",
    "v0 = 4.5                  # Initial velocity\n",
    "g = 9.81                  # Acceleration of gravity\n",
    "t = linspace(0, 1, 1000)  # 1000 points in time interval\n",
    "y = v0*t - 0.5*g*t**2     # Generate all heights\n",
    "\n",
    "# Find where the ball hits y=0\n",
    "i = 0\n",
    "while y[i] >= 0:\n",
    "    i += 1\n",
    "\n",
    "# Now, y[i-1]>0 and y[i]<0 so let’s take the middle point\n",
    "# in time as the approximation for when the ball hits h=0\n",
    "print(\"y=0 at\", 0.5*(t[i-1] + t[i]))\n",
    "\n",
    "# We plot the path again just for comparison\n",
    "import matplotlib.pyplot as plt\n",
    "plt.plot(t, y)\n",
    "plt.plot(t, 0*t, 'g--')\n",
    "plt.xlabel('Time (s)')\n",
    "plt.ylabel('Height (m)')\n",
    "plt.grid()\n",
    "plt.show()"
   ]
  },
  {
   "cell_type": "markdown",
   "metadata": {},
   "source": [
    "### Lists and Tuples - Alternatives to Arrays\n",
    "\n",
    "[[ go back to the top ]](#Table-of-contents)"
   ]
  },
  {
   "cell_type": "markdown",
   "metadata": {
    "collapsed": true
   },
   "source": [
    "We have seen that a group of numbers may be stored in an array that we may treat\n",
    "as a whole, or element by element. In Python, there is another way of organizing \n",
    "data that actually is much used, at least in non-numerical contexts, and that is\n",
    "a construction called **list**.\n",
    "\n",
    "**Note:** The `range()` function that we used above in our for loop actually returns a list."
   ]
  },
  {
   "cell_type": "code",
   "execution_count": null,
   "metadata": {
    "collapsed": true
   },
   "outputs": [],
   "source": [
    "# A list may be created by simply writing, e.g.,\n"
   ]
  },
  {
   "cell_type": "code",
   "execution_count": null,
   "metadata": {
    "collapsed": true
   },
   "outputs": [],
   "source": []
  },
  {
   "cell_type": "code",
   "execution_count": null,
   "metadata": {
    "collapsed": true
   },
   "outputs": [],
   "source": []
  },
  {
   "cell_type": "code",
   "execution_count": null,
   "metadata": {
    "collapsed": true
   },
   "outputs": [],
   "source": []
  },
  {
   "cell_type": "code",
   "execution_count": null,
   "metadata": {
    "collapsed": true
   },
   "outputs": [],
   "source": []
  },
  {
   "cell_type": "markdown",
   "metadata": {},
   "source": [
    "## Reading from and Writing to Files\n",
    "\n",
    "[[ go back to the top ]](#Table-of-contents)"
   ]
  },
  {
   "cell_type": "markdown",
   "metadata": {},
   "source": [
    "### Reading...\n",
    "Input data for a program often come from files and the results of the computations\n",
    "are often written to file. To illustrate basic file handling, we consider an example\n",
    "where we read `x` and `y` coordinates from two columns in a file, apply a function `f`\n",
    "to the `y` coordinates, and write the results to a new two-column data file."
   ]
  },
  {
   "cell_type": "code",
   "execution_count": null,
   "metadata": {
    "collapsed": true
   },
   "outputs": [],
   "source": [
    "filename = 'tmp.dat'\n",
    "infile = open(filename, 'r')  # Open file for reading\n",
    "line = infile.readline()      # Read first line\n",
    "# Read x and y coordinates from the file and store in lists\n",
    "x = []\n",
    "y = []\n",
    "for line in infile:\n",
    "    words = line.split()      # Split line into words\n",
    "    x.append(float(words[0]))\n",
    "    y.append(float(words[1]))\n",
    "infile.close()\n",
    "print(\"x_list:\",x,\"\\ny_list:\",y)"
   ]
  },
  {
   "cell_type": "markdown",
   "metadata": {},
   "source": [
    "### Formatting numbers..."
   ]
  },
  {
   "cell_type": "code",
   "execution_count": null,
   "metadata": {
    "collapsed": true
   },
   "outputs": [],
   "source": [
    "import numpy as np\n"
   ]
  },
  {
   "cell_type": "markdown",
   "metadata": {},
   "source": [
    "### Writing..."
   ]
  },
  {
   "cell_type": "code",
   "execution_count": 40,
   "metadata": {
    "collapsed": true
   },
   "outputs": [],
   "source": [
    "import numpy\n",
    "\n",
    "# get data from file\n",
    "filename = 'tmp.dat'\n",
    "data = numpy.loadtxt(filename, comments='#')\n",
    "x = data[:,0]\n",
    "y = data[:,1]\n",
    "\n",
    "# data manipulation\n",
    "data[:,1] = numpy.log(y) # insert transformed y back in array\n",
    "\n",
    "# file: open -- write -- close\n",
    "filename = 'tmp_out.dat'\n",
    "outfile = open(filename, 'wb') # open file for writing\n",
    "outfile.write(b'# x and y coordinates\\n')\n",
    "numpy.savetxt(outfile, data, fmt='%10.5f')   # use exponential notation: %1.4e\n",
    "                                             # use: delimiter=\",\"\n",
    "outfile.close()"
   ]
  },
  {
   "cell_type": "markdown",
   "metadata": {},
   "source": [
    "## MATLAB commands in Python\n",
    "\n",
    "[[ go back to the top ]](#Table-of-contents)"
   ]
  },
  {
   "cell_type": "markdown",
   "metadata": {},
   "source": [
    " **Quick reference** for switching from MATLAB to an open-source environment, such as Python, Scilab, Octave and Gnuplot, or R for numeric processing and data visualisation: [Cheatsheet: MATLAB vs Python](http://mathesaurus.sourceforge.net/matlab-python-xref.pdf)"
   ]
  },
  {
   "cell_type": "markdown",
   "metadata": {},
   "source": [
    "## Linear Systems of Equations\n",
    "\n",
    "[[ go back to the top ]](#Table-of-contents)"
   ]
  },
  {
   "cell_type": "code",
   "execution_count": 18,
   "metadata": {},
   "outputs": [
    {
     "name": "stdout",
     "output_type": "stream",
     "text": [
      "[[1 2 3 4]\n",
      " [2 1 2 3]\n",
      " [3 2 1 2]\n",
      " [4 3 2 1]]\n",
      "[[30]\n",
      " [22]\n",
      " [18]\n",
      " [20]]\n",
      "[[  1.   2.   3.   4.  30.   1.   0.   0.   0.]\n",
      " [  2.   1.   2.   3.  22.   0.   1.   0.   0.]\n",
      " [  3.   2.   1.   2.  18.   0.   0.   1.   0.]\n",
      " [  4.   3.   2.   1.  20.   0.   0.   0.   1.]]\n",
      "(4, 9)\n"
     ]
    },
    {
     "ename": "TypeError",
     "evalue": "unsupported format string passed to numpy.ndarray.__format__",
     "output_type": "error",
     "traceback": [
      "\u001b[1;31m---------------------------------------------------------------------------\u001b[0m",
      "\u001b[1;31mTypeError\u001b[0m                                 Traceback (most recent call last)",
      "\u001b[1;32m<ipython-input-18-02f812ce7dc7>\u001b[0m in \u001b[0;36m<module>\u001b[1;34m()\u001b[0m\n\u001b[0;32m     25\u001b[0m             \u001b[0mA_aug\u001b[0m\u001b[1;33m[\u001b[0m\u001b[0mk\u001b[0m\u001b[1;33m,\u001b[0m\u001b[1;33m:\u001b[0m\u001b[1;33m]\u001b[0m \u001b[1;33m=\u001b[0m \u001b[0mA_aug\u001b[0m\u001b[1;33m[\u001b[0m\u001b[0mk\u001b[0m\u001b[1;33m,\u001b[0m\u001b[1;33m:\u001b[0m\u001b[1;33m]\u001b[0m \u001b[1;33m-\u001b[0m\u001b[0mA_aug\u001b[0m\u001b[1;33m[\u001b[0m\u001b[0mk\u001b[0m\u001b[1;33m,\u001b[0m\u001b[0mi\u001b[0m\u001b[1;33m]\u001b[0m \u001b[1;33m*\u001b[0m \u001b[0mA_aug\u001b[0m\u001b[1;33m[\u001b[0m\u001b[0mi\u001b[0m\u001b[1;33m,\u001b[0m\u001b[1;33m:\u001b[0m\u001b[1;33m]\u001b[0m\u001b[1;33m\u001b[0m\u001b[0m\n\u001b[0;32m     26\u001b[0m \u001b[1;33m\u001b[0m\u001b[0m\n\u001b[1;32m---> 27\u001b[1;33m \u001b[0mprint\u001b[0m\u001b[1;33m(\u001b[0m\u001b[1;34m\"{0:.2f}\"\u001b[0m\u001b[1;33m.\u001b[0m\u001b[0mformat\u001b[0m\u001b[1;33m(\u001b[0m\u001b[0mA_aug\u001b[0m\u001b[1;33m)\u001b[0m\u001b[1;33m)\u001b[0m\u001b[1;33m\u001b[0m\u001b[0m\n\u001b[0m\u001b[0;32m     28\u001b[0m \u001b[1;33m\u001b[0m\u001b[0m\n\u001b[0;32m     29\u001b[0m \u001b[1;33m\u001b[0m\u001b[0m\n",
      "\u001b[1;31mTypeError\u001b[0m: unsupported format string passed to numpy.ndarray.__format__"
     ]
    }
   ],
   "source": [
    "import numpy as np\n",
    "\n",
    "A = np.array([[1,2,3,4, 2,1,2,3, 3,2,1,2, 4,3,2,1]])\n",
    "A = A.reshape((4,4))\n",
    "print(A)\n",
    "\n",
    "b = np.array([[30, 22, 18, 20]])\n",
    "b = b.T \n",
    "print(b)\n",
    "\n",
    "# Create augmented matrix A_aug (corresponds to \"A'\" in lecture notes)\n",
    "A_aug = np.concatenate((A, b, np.identity(4)), axis=1) \n",
    "print(A_aug)\n",
    "rows, cols = A_aug.shape\n",
    "print((rows,cols))\n",
    "\n",
    "# Now we apply linear combinations of rows to receive the desired structure.\n",
    "for i in range(rows):\n",
    "    # Divide row i by the diagonal element. This will give a 1 on the diagonal.\n",
    "    A_aug[i,:] = A_aug[i,:]/A_aug[i,i]\n",
    "    \n",
    "    # The next step is to substract row i from all other rows such that we receive the zeros in column i.\n",
    "    for k in range(rows):\n",
    "        if(k != i):\n",
    "            A_aug[k,:] = A_aug[k,:] -A_aug[k,i] * A_aug[i,:]\n",
    "            \n",
    "x = np.array([A_aug[:,rows]]) \n",
    "x = x.T\n",
    "\n",
    "print(\"Solution vector x:\\n\", x)\n",
    "\n",
    "#print(\"\\n\\n--- Check ---\\n\")\n",
    "#print(\"A * x == b? \\n\\n\")\n",
    "#Ax = A.dot(x)\n",
    "#print(\"Ax:\\n\", Ax, \"\\n\\nb:\\n\", b)"
   ]
  },
  {
   "cell_type": "markdown",
   "metadata": {},
   "source": [
    "### Ex.1\n",
    "\n",
    "On the original problem: Interchange the first and the second column in A. Try your code...\n",
    "\n",
    "\n",
    "### Ex.2\n",
    "\n",
    "Try your code on $Ax=b$ with\n",
    "\n",
    "$$\n",
    "A = \\begin{pmatrix}\n",
    " 1 &  0 & -5\\\\\n",
    "-6 &  2 &  9\\\\\n",
    " 2 & -3 &  7\n",
    "\\end{pmatrix}\n",
    "$$\n",
    "\n",
    "and\n",
    "\n",
    "$$\n",
    "b = \\begin{pmatrix}\n",
    "1\\\\\n",
    "3\\\\\n",
    "2\n",
    "\\end{pmatrix}\n",
    "$$\n",
    "\n",
    "### Ex.3\n",
    "\n",
    "On the problem from Ex2: Interchange the first and the second column in A. Try your code..."
   ]
  },
  {
   "cell_type": "markdown",
   "metadata": {},
   "source": [
    "## Further reading and references\n",
    "\n",
    "[[ go back to the top ]](#Table-of-contents)\n",
    "\n",
    "Books I use for reference, inspiration and when designing exercise sheets or e.g. this Jupyter Notebook. Also a good idea if you're looking to dive deeper into a particular topic...\n",
    "\n",
    "**Titus A. Beu: Introduction to numerical programming. A practical guide for scientists and engineers using Python and C/C++** This text introduces platform-independent numerical programming using Python and C/C++ and\n",
    "appeals to advanced undergraduate and graduate students in natural sciences and engineering,\n",
    "researchers involved in scientific computing, and engineers carrying out applicative calculations.\n",
    "\n",
    "**Svein Linge and Hans Petter Langtangen: Programming for Computations - Python. A Gentle Introduction to Numerical Simulations with Python** This book presents computer programming as a key method for solving mathematical problems. There are two versions of the book, one for MATLAB and one for Python. The book was inspired by the Springer book TCSE 6: A Primer on Scientific Programming with Python (by Langtangen), but the style is more accessible and concise, in keeping with the needs of engineering students."
   ]
  },
  {
   "cell_type": "markdown",
   "metadata": {},
   "source": [
    "## Not covered but relevant...\n",
    "\n",
    "[[ go back to the top ]](#Table-of-contents)\n",
    "\n",
    "Sometimes there are details I would like to work out further or demonstrate during the tutorial but due to time limitations this is not always possible. So here is where I would usually point out things or ask questions that are important/interesting but I had to omit. These might simply be of general interest but could also emphasize a fact that would be useful to know e.g. for the upcoming exam...\n",
    "\n",
    ">Nothing this week..."
   ]
  }
 ],
 "metadata": {
  "kernelspec": {
   "display_name": "Python 3",
   "language": "python",
   "name": "python3"
  },
  "language_info": {
   "codemirror_mode": {
    "name": "ipython",
    "version": 3
   },
   "file_extension": ".py",
   "mimetype": "text/x-python",
   "name": "python",
   "nbconvert_exporter": "python",
   "pygments_lexer": "ipython3",
   "version": "3.6.2"
  }
 },
 "nbformat": 4,
 "nbformat_minor": 1
}

{
 "cells": [
  {
   "cell_type": "markdown",
   "metadata": {},
   "source": [
    "# 01: Gauss-Jordan Elimination, Pivoting and Conditioning\n",
    "\n",
    "### Notebook accompanying  the [Scientific Computing Lecture HS 2017](http://informatik.unibas.ch/hs2017/hauptvorlesung-scientific-computing/)\n",
    "#### Tutorial by [Sebastian Mathias Keller](http://bmda.cs.unibas.ch/)\n",
    "#### University of Basel [Institute for Mathematics and Computer Science](http://informatik.unibas.ch/)"
   ]
  },
  {
   "cell_type": "markdown",
   "metadata": {},
   "source": [
    "## Table of contents\n",
    "\n",
    "1. [Linear Problem: Pirates on a raid](#Linear-Problem:-Pirates-on-a-raid)\n",
    "\n",
    "2. [Conditioning](#Conditioning)\n",
    "\n",
    "3. [Pivoting](#Pivoting)\n",
    "\n",
    "4. [Solutions to linear Systems](#Solutions-to-linear-Systems)\n",
    "\n",
    "5. [Triangular Linear Systems](#Triangular-Linear-Systems)\n",
    "\n",
    "6. [Gauss-Jordan with pivoting](#Gauss-Jordan-with-pivoting)\n",
    "\n",
    "7. [Not covered but relevant...](#Not-covered-but-relevant...)"
   ]
  },
  {
   "cell_type": "markdown",
   "metadata": {},
   "source": [
    "## Linear Problem: Pirates on a raid\n",
    "\n",
    "[[ go back to the top ]](#Table-of-contents)"
   ]
  },
  {
   "cell_type": "markdown",
   "metadata": {},
   "source": [
    "**Solution:**\n",
    "\n",
    "1 bottle of whisky: 5 coins\n",
    "\n",
    "1 sack of corn    : 2 coins\n",
    "\n",
    "earning per pirate per raid: 1 coin\n",
    "\n",
    "**(Details see Tutorial Notes)**"
   ]
  },
  {
   "cell_type": "markdown",
   "metadata": {},
   "source": [
    "## Conditioning\n",
    "\n",
    "[[ go back to the top ]](#Table-of-contents)"
   ]
  },
  {
   "cell_type": "markdown",
   "metadata": {},
   "source": [
    "**What is the Condition of a Problem?**\n",
    "\n",
    "--> Why should we need condition number. precision. There is no link between algorithm with the condition number. It has todo with the problem it self. \n",
    "\n",
    "problem is ill condiitoned when 'small' changes in the data (the elements of a matrix, or the components of a vector , etc. produce large changes in the result. Or the eigenvalues of a matrix). \n",
    "\n",
    "Even if the calculations are carried out exactly, that, is, without rounding or truncation errors. \n",
    "\n",
    "\n",
    "**What is the meaning of Stability?**\n",
    "\n",
    "--> Property of not amplifying errors: a funciton of the algorithm used to solve the problem. \n",
    "\n",
    "**Example**\n",
    "\n",
    "--> cond() of A,B,C\n",
    "\n",
    "--> cond(D): explanation for ill-cond. ?"
   ]
  },
  {
   "cell_type": "code",
   "execution_count": 1,
   "metadata": {},
   "outputs": [
    {
     "name": "stdout",
     "output_type": "stream",
     "text": [
      "[[ 0.001  1.   ]\n",
      " [ 1.     1.   ]]\n",
      "2.62155033222\n"
     ]
    }
   ],
   "source": [
    "import numpy as np\n",
    "from numpy import linalg as LA\n",
    "\n",
    "A = np.array([[10e-4, 1], [1, 1]])\n",
    "print(A)\n",
    "print(LA.cond(A))"
   ]
  },
  {
   "cell_type": "code",
   "execution_count": 2,
   "metadata": {},
   "outputs": [
    {
     "name": "stdout",
     "output_type": "stream",
     "text": [
      "[[ 1.     1.   ]\n",
      " [ 0.001  1.   ]]\n",
      "2.62155033222\n"
     ]
    }
   ],
   "source": [
    "B = np.array([[1, 1], [10e-4, 1]]) # rowSwitch(A)\n",
    "print(B)\n",
    "print(LA.cond(B))"
   ]
  },
  {
   "cell_type": "markdown",
   "metadata": {},
   "source": [
    "C = np.array([[1, 10e-4], [1, 1]]) # colSwitch(A)\n",
    "print(C)\n",
    "print(LA.cond(C))"
   ]
  },
  {
   "cell_type": "code",
   "execution_count": 3,
   "metadata": {},
   "outputs": [
    {
     "name": "stdout",
     "output_type": "stream",
     "text": [
      "[[ 1.     1.   ]\n",
      " [ 1.     1.001]]\n",
      "4002.00075012\n"
     ]
    }
   ],
   "source": [
    "D = np.array([[1, 1], [1, 1.001]])\n",
    "print(D)\n",
    "print(LA.cond(D))"
   ]
  },
  {
   "cell_type": "markdown",
   "metadata": {},
   "source": [
    "## Pivoting\n",
    "\n",
    "[[ go back to the top ]](#Table-of-contents)"
   ]
  },
  {
   "cell_type": "markdown",
   "metadata": {},
   "source": [
    "**Why pivoting?**\n",
    "\n",
    "--> it increase the stabiltity of the algorithm \n",
    "\n",
    "--> avoiding dividing by zero or to close to zero (computer memory is not unfinite)\n",
    "\n",
    "**What about Stability?**\n",
    "\n",
    "--> "
   ]
  },
  {
   "cell_type": "markdown",
   "metadata": {},
   "source": [
    "## Solutions to linear Systems\n",
    "\n",
    "[[ go back to the top ]](#Table-of-contents)"
   ]
  },
  {
   "cell_type": "markdown",
   "metadata": {},
   "source": [
    "<img src=\"images/solvLinSys.jpg\" />"
   ]
  },
  {
   "cell_type": "markdown",
   "metadata": {},
   "source": [
    "## Triangular Linear Systems\n",
    "\n",
    "[[ go back to the top ]](#Table-of-contents)"
   ]
  },
  {
   "cell_type": "markdown",
   "metadata": {},
   "source": [
    "The system is $\\mathbf{A}\\vec{x}=\\vec{b}$. The goal is to solve for $\\vec{x}$. This process is called back-substitution. (fwd-subst for a lower triangular matrix.)\n",
    "\n",
    "For the upper triangular matrix A we want to find a formula to calculate the $x_i$.\n",
    "\n",
    "Write out all 4 equations and find a single mathematical expression to reproduce these equations.\n",
    "\n",
    "$$\n",
    "A = \\begin{pmatrix}\n",
    " a_{00} &  a_{01} & a_{02} & a_{03}\\\\\n",
    " 0      &  a_{11} & a_{12} & a_{13}\\\\\n",
    " 0      &  0      & a_{22} & a_{23}\\\\\n",
    " 0      &  0      & 0      & a_{33}\n",
    "\\end{pmatrix}\n",
    "$$\n",
    "\n",
    "and\n",
    "\n",
    "$$\n",
    "x = \\begin{pmatrix}\n",
    "x_0\\\\\n",
    "x_1\\\\\n",
    "x_2\\\\\n",
    "x_3\n",
    "\\end{pmatrix}\n",
    "$$\n",
    "\n",
    "$$\n",
    "b = \\begin{pmatrix}\n",
    "b_0\\\\\n",
    "b_1\\\\\n",
    "b_2\\\\\n",
    "b_3\n",
    "\\end{pmatrix}\n",
    "$$\n",
    "\n",
    "\n",
    "-->\n",
    "\n",
    "$$x_3 = \\frac{1}{a_{33}}[b_3]$$\n",
    "$$x_2 = \\frac{1}{a_{22}}[b_2-x_3a_{23}]$$\n",
    "\n",
    "\n",
    "Find a similar formula in case of fwd-subst.\n",
    "\n",
    "xi = bi- sum(k=i+1 up to n-1) aik.xk"
   ]
  },
  {
   "cell_type": "markdown",
   "metadata": {},
   "source": [
    "## Gauss-Jordan with pivoting\n",
    "\n",
    "[[ go back to the top ]](#Table-of-contents)"
   ]
  },
  {
   "cell_type": "code",
   "execution_count": null,
   "metadata": {
    "collapsed": true
   },
   "outputs": [],
   "source": [
    "import numpy as np\n",
    "\n",
    "A = np.array([[1,2,5,-3, 0,0,-1,-1, -1,-1,0,1, 3,-3,2,-1]])\n",
    "A = A.reshape((4, 4))\n",
    "\n",
    "b = np.array([[-2,6,5,1]])\n",
    "b = b.T\n",
    "\n",
    "\n",
    "\n",
    "# Create augmented matrix A_aug (corresponds to \"A'\" in lecture notes)\n",
    "A_aug = np.concatenate((A, b, np.identity(b.shape[0])), axis=1)\n",
    "\n",
    "rows, cols = A_aug.shape\n",
    "\n",
    "\n",
    "\n",
    "print(A_aug)\n",
    "print(\"rows: \", rows, \"\\ncols: \", cols, \"\\n\")\n",
    "\n",
    "# Now we apply linear combinations of rows to receive the desired structure.\n",
    "for i in range(rows):\n",
    "    \n",
    "    ##print(\"before switch: A_aug\\n\", A_aug)\n",
    "    \n",
    "    ################### this is pivot specific ###################\n",
    "\n",
    "    ################### end of pivot-specific part ###################\n",
    "    \n",
    "    \n",
    "    # Divide row i by the diagonal element. This will give a 1 on the diagonal.\n",
    "    A_aug[i,:] = A_aug[i,:] / (A_aug[i,i])\n",
    "    \n",
    "    # The next step is to substract row i from all other rows such that we receive the zeros in column i.\n",
    "    for k in range(rows):\n",
    "        if (k != i):\n",
    "            A_aug[k,:] = A_aug[k,:] - A_aug[k,i] * A_aug[i,:]\n",
    "\n",
    "x = np.array([A_aug[:,rows]])\n",
    "x = x.T\n",
    "\n",
    "print(\"Solution vector x:\\n\", x)\n",
    "\n",
    "print(\"\\n\\n--- Check ---\\n\")\n",
    "print(\"A * x == b? \\n\\n\")\n",
    "Ax = A.dot(x)\n",
    "print(\"Ax:\\n\", Ax, \"\\n\\nb:\\n\", b)"
   ]
  },
  {
   "cell_type": "markdown",
   "metadata": {},
   "source": [
    "## Not covered but relevant...\n",
    "\n",
    "[[ go back to the top ]](#Table-of-contents)\n",
    "\n",
    "Sometimes there are details I would like to work out further or demonstrate during the tutorial but due to time limitations this is not always possible. So here is where I would usually point out things or ask questions that are important/interesting but I had to omit. These might simply be of general interest but could also emphasize a fact that would be useful to know e.g. for the upcoming exam...\n",
    "\n",
    ">Find out how the different condition numbers in the code below are calculated.\n",
    "\n",
    "\n",
    ">Make sure that you are able to do these calculations by hand."
   ]
  },
  {
   "cell_type": "code",
   "execution_count": null,
   "metadata": {
    "collapsed": true
   },
   "outputs": [],
   "source": [
    "import numpy as np\n",
    "from numpy import linalg as LA\n",
    "\n",
    "A = np.array([[1, 0, -1], [0, 1, 0], [1, 0, 1]])\n",
    "print(A,\"\\n\")\n",
    "\n",
    "print(LA.cond(A),\"\\n\") # 1.4142135623730951\n",
    "\n",
    "print(LA.cond(A, 'fro'),\"\\n\") # 3.1622776601683795\n",
    "\n",
    "print(LA.cond(A, np.inf),\"\\n\") # 2.0\n",
    "\n",
    "print(LA.cond(A, 1),\"\\n\") # 2.0\n",
    "\n",
    "print(LA.cond(A, 2),\"\\n\") # 1.41421356237\n",
    "\n",
    "# calculate by hand. \n"
   ]
  }
 ],
 "metadata": {
  "kernelspec": {
   "display_name": "Python 3",
   "language": "python",
   "name": "python3"
  },
  "language_info": {
   "codemirror_mode": {
    "name": "ipython",
    "version": 3
   },
   "file_extension": ".py",
   "mimetype": "text/x-python",
   "name": "python",
   "nbconvert_exporter": "python",
   "pygments_lexer": "ipython3",
   "version": "3.6.2"
  }
 },
 "nbformat": 4,
 "nbformat_minor": 1
}

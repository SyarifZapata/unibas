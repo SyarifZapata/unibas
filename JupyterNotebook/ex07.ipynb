{
 "cells": [
  {
   "cell_type": "code",
   "execution_count": 72,
   "metadata": {},
   "outputs": [
    {
     "name": "stdout",
     "output_type": "stream",
     "text": [
      "[[   13.    23.     0.]\n",
      " [   -4.    -4.   160.]\n",
      " [  -35.   -20.  1190.]\n",
      " [   -5.   -15.   480.]]\n",
      "[[  -2.      -1.     800.   ]\n",
      " [  -0.375    0.1     12.   ]\n",
      " [  10.625   -1.5    210.   ]\n",
      " [   0.125   -0.1     28.   ]]\n"
     ]
    }
   ],
   "source": [
    "import numpy as np\n",
    "import numpy.linalg as la\n",
    "import matplotlib.pyplot as plt\n",
    "np.set_printoptions(precision = 4, suppress = True)\n",
    "def array(arr, dims = None):\n",
    "    arr = np.array(arr, dtype = \"float64\")\n",
    "    if dims != None:\n",
    "        arr = arr.reshape(dims)\n",
    "    return arr\n",
    "\n",
    "def simplex(matrix):\n",
    "    matrix = matrix.copy()\n",
    "    while True:\n",
    "        pcol = matrix[0, :-1].argmax()\n",
    "        if matrix[0, pcol] <= 0:\n",
    "            return matrix\n",
    "        prow = 1 + (matrix[1:, -1] / matrix[1:, pcol]).argmax()\n",
    "        pivot, pel = matrix[:, pcol].copy(), matrix[prow, pcol]\n",
    "        for i in range(len(matrix)):\n",
    "            if i != prow:\n",
    "                matrix[i, :] = matrix[i, :] - (matrix[i, pcol] / matrix[prow, pcol]) * matrix[prow, :]\n",
    "        matrix[prow, :] = matrix[prow, :] / -pel\n",
    "        matrix[:, pcol] = pivot / pel\n",
    "        matrix[prow, pcol] = 1 / pel\n",
    "\n",
    "M = array([[13, 23, 0], [-4, -4, 160], [-35, -20, 1190], [-5, -15, 480]])\n",
    "print(M)\n",
    "print(simplex(M))"
   ]
  },
  {
   "cell_type": "code",
   "execution_count": null,
   "metadata": {
    "collapsed": true
   },
   "outputs": [],
   "source": [
    ""
   ]
  }
 ],
 "metadata": {
  "kernelspec": {
   "display_name": "Python 3",
   "language": "python",
   "name": "python3"
  },
  "language_info": {
   "codemirror_mode": {
    "name": "ipython",
    "version": 3.0
   },
   "file_extension": ".py",
   "mimetype": "text/x-python",
   "name": "python",
   "nbconvert_exporter": "python",
   "pygments_lexer": "ipython3",
   "version": "3.6.2"
  }
 },
 "nbformat": 4,
 "nbformat_minor": 0
}
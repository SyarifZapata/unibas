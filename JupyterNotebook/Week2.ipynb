{
 "cells": [
  {
   "cell_type": "code",
   "execution_count": 38,
   "metadata": {
    "scrolled": true
   },
   "outputs": [
    {
     "name": "stdout",
     "output_type": "stream",
     "text": [
      "[[  3   7  -8]\n",
      " [  8   5  -5]\n",
      " [  0   3 -20]]\n",
      "\n",
      "[[33]\n",
      " [36]\n",
      " [-5]]\n",
      "\n",
      "[[  3.   7.  -8.  33.   1.   0.   0.]\n",
      " [  8.   5.  -5.  36.   0.   1.   0.]\n",
      " [  0.   3. -20.  -5.   0.   0.   1.]]\n",
      "\n",
      "result is =  [ 2.  5.  1.]\n",
      "price of one sack of corn =  2.0\n",
      "price of one whiskey =  5.0\n",
      "price of one crew member per day =  1.0\n"
     ]
    }
   ],
   "source": [
    "import numpy as np\n",
    "\n",
    "# Excercise 1 task 1\n",
    "\n",
    "A = np.array([[3, 7, -8], [8, 5, -5], [0, 3, -20]])\n",
    "print(A)\n",
    "print()\n",
    "\n",
    "x = np.array([[33, 36, -5]])\n",
    "x = x.T\n",
    "print(x)\n",
    "print()\n",
    "\n",
    "aug_M = np.hstack((A, x, np.identity(3)))\n",
    "print(aug_M)\n",
    "print()\n",
    "\n",
    "rows, cols = aug_M.shape\n",
    "\n",
    "for i in range(rows):\n",
    "    # make diagonal of A into 1\n",
    "    aug_M[i,:] = aug_M[i,:]/aug_M[i,i]\n",
    "\n",
    "    for k in range(rows):\n",
    "        # substract all row elements by i  x i (1)\n",
    "        if k != i:\n",
    "            aug_M[k,:] = aug_M[k,:] -aug_M[k,i] * aug_M[i,:]\n",
    "           \n",
    "        \n",
    "result = aug_M[:,3]\n",
    "print('result is = ', result)\n",
    "\n",
    "print('price of one sack of corn = ', result[0])\n",
    "print('price of one whiskey = ', result[1])\n",
    "print('price of one crew member per day = ', result[2])\n",
    "\n",
    "\n"
   ]
  },
  {
   "cell_type": "markdown",
   "metadata": {},
   "source": [
    "# Gauss-Jordan elimination\n",
    "\n",
    "Operations which do not change the solutions\n",
    "1. Replace a row of A0 by a linear combination of itself and any other\n",
    "row(s).\n",
    "2. Interchange two rows of A0.\n",
    "3. Interchange two columns of A\n",
    "and corresponding rows of x.\n",
    "\u000f Basic G-J elimination uses only operation #1 but...\n"
   ]
  },
  {
   "cell_type": "code",
   "execution_count": 2,
   "metadata": {},
   "outputs": [
    {
     "name": "stdout",
     "output_type": "stream",
     "text": [
      "[[ 1  2  5 -3]\n",
      " [ 0  0 -1 -1]\n",
      " [-1 -1  0  1]\n",
      " [ 3 -3  2 -1]]\n",
      "\n",
      "[[-2]\n",
      " [ 6]\n",
      " [ 5]\n",
      " [ 1]]\n",
      "\n",
      "[[ 1.  2.  5. -3. -2.  1.  0.  0.  0.]\n",
      " [ 0.  0. -1. -1.  6.  0.  1.  0.  0.]\n",
      " [-1. -1.  0.  1.  5.  0.  0.  1.  0.]\n",
      " [ 3. -3.  2. -1.  1.  0.  0.  0.  1.]]\n",
      "\n",
      "\n",
      "result is =  [-5.71428571 -4.66666667 -0.61904762 -5.38095238]\n"
     ]
    }
   ],
   "source": [
    "import numpy as np \n",
    "\n",
    "# Excercise 1 task 2 \n",
    "\n",
    "A = np.array([[1, 2, 5, -3], [0, 0, -1, -1], [-1, -1, 0, 1], [3, -3, 2, -1]])\n",
    "print(A)\n",
    "print()\n",
    "\n",
    "x = np.array([[-2, 6, 5, 1]])\n",
    "x = x.T\n",
    "print(x)\n",
    "print()\n",
    "\n",
    "aug_M = np.hstack((A, x, np.identity(4)))\n",
    "print(aug_M)\n",
    "print()\n",
    "\n",
    "\n",
    "\n",
    "\n",
    "rows, cols = aug_M.shape\n",
    "\n",
    "for i in range(rows):\n",
    "    \n",
    "    #index k = find the max value in i \n",
    "    #k = i + np argmax(np.absolute(aug_M[i:len(A), i]))\n",
    "    #if k != i:\n",
    "        #aug_M[[i,k]] = aug_M[[k,i]]\n",
    "    if aug_M[i,i] == 0:\n",
    "         aug_M[[i,i+1]] = aug_M[[i+1,i]]\n",
    "    \n",
    "    # make diagonal of A into 1\n",
    "    aug_M[i,:] = aug_M[i,:]/aug_M[i,i]\n",
    "    \n",
    "\n",
    "    for k in range(rows):\n",
    "        # substract all row elements by i  x i (1)\n",
    "        if k != i:\n",
    "            aug_M[k,:] = aug_M[k,:] -aug_M[k,i] * aug_M[i,:] \n",
    "            \n",
    "        \n",
    "result = aug_M[:,4]\n",
    "print()\n",
    "print('result is = ', result)\n",
    "\n",
    "\n"
   ]
  },
  {
   "cell_type": "code",
   "execution_count": null,
   "metadata": {
    "collapsed": true
   },
   "outputs": [],
   "source": []
  },
  {
   "cell_type": "code",
   "execution_count": null,
   "metadata": {
    "collapsed": true
   },
   "outputs": [],
   "source": []
  },
  {
   "cell_type": "code",
   "execution_count": null,
   "metadata": {
    "collapsed": true
   },
   "outputs": [],
   "source": []
  }
 ],
 "metadata": {
  "kernelspec": {
   "display_name": "Python 3",
   "language": "python",
   "name": "python3"
  },
  "language_info": {
   "codemirror_mode": {
    "name": "ipython",
    "version": 3
   },
   "file_extension": ".py",
   "mimetype": "text/x-python",
   "name": "python",
   "nbconvert_exporter": "python",
   "pygments_lexer": "ipython3",
   "version": "3.6.2"
  }
 },
 "nbformat": 4,
 "nbformat_minor": 2
}

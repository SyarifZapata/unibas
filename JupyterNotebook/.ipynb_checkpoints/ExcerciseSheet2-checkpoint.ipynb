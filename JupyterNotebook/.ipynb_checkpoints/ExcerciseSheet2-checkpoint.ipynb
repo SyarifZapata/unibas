{
 "cells": [
  {
   "cell_type": "code",
   "execution_count": 3,
   "metadata": {},
   "outputs": [
    {
     "name": "stdout",
     "output_type": "stream",
     "text": [
      "[[ 1.  0. -5.]\n",
      " [-6.  2.  9.]\n",
      " [ 2. -3.  2.]]\n",
      "\n",
      "[[ 1.          0.          0.        ]\n",
      " [-0.16666667  1.          0.        ]\n",
      " [-0.33333333 -0.14285714  1.        ]]\n",
      "\n",
      "[[-6.          2.          9.        ]\n",
      " [ 0.         -2.33333333  5.        ]\n",
      " [ 0.          0.         -2.78571429]]\n"
     ]
    }
   ],
   "source": [
    "import numpy as np\n",
    "\n",
    "A = np.array([[1., 0., -5.], [-6., 2., 9.], [2., -3., 2.]])\n",
    "print(A)\n",
    "\n",
    "def lu(A):\n",
    "\n",
    "    cols,rows = A.shape\n",
    "\n",
    "    id_mat = np.identity(cols)\n",
    "\n",
    "    print()\n",
    "\n",
    "    k = -1\n",
    "    for j in range(cols):\n",
    "        max = np.argmax(abs(A[:,j]))\n",
    "\n",
    "        if max != j & max !=k:\n",
    "            k = max\n",
    "            A[[j,max]] = A[[max,j]]\n",
    "\n",
    "\n",
    "        for i in range(j,cols - 1):\n",
    "            id_mat[i + 1, j] = A[i + 1, j] / A[j, j]\n",
    "            A[i+1, :] = A[i+1, :] - (A[i+1, j] / A[j, j]) * A[j, :]\n",
    "\n",
    "\n",
    "    return id_mat,A\n",
    "\n",
    "L,U = lu(A)\n",
    "print(L)\n",
    "print()\n",
    "print(U)"
   ]
  },
  {
   "cell_type": "code",
   "execution_count": 7,
   "metadata": {
    "collapsed": true
   },
   "outputs": [],
   "source": []
  },
  {
   "cell_type": "code",
   "execution_count": null,
   "metadata": {
    "collapsed": true
   },
   "outputs": [],
   "source": []
  }
 ],
 "metadata": {
  "kernelspec": {
   "display_name": "Python 3",
   "language": "python",
   "name": "python3"
  },
  "language_info": {
   "codemirror_mode": {
    "name": "ipython",
    "version": 3
   },
   "file_extension": ".py",
   "mimetype": "text/x-python",
   "name": "python",
   "nbconvert_exporter": "python",
   "pygments_lexer": "ipython3",
   "version": "3.6.2"
  }
 },
 "nbformat": 4,
 "nbformat_minor": 1
}

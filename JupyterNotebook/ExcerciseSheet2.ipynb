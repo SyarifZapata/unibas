{
 "cells": [
  {
   "cell_type": "code",
   "execution_count": 1,
   "metadata": {
    "collapsed": true
   },
   "outputs": [
    {
     "name": "stdout",
     "output_type": "stream",
     "text": [
      "[[ 1.  0. -5.]\n [-6.  2.  9.]\n [ 2. -3.  2.]]\n\n[[ 1.          0.          0.        ]\n [-0.33333333  1.          0.        ]\n [-0.16666667 -0.14285714  1.        ]]\n\n[[-6.          2.          9.        ]\n [ 0.         -2.33333333  5.        ]\n [ 0.          0.         -2.78571429]]\n\n[[ 0.  1.  0.]\n [ 0.  0.  1.]\n [ 1.  0.  0.]]\n"
     ]
    }
   ],
   "source": [
    "import numpy as np\n",
    "\n",
    "A = np.array([[1.0, 0.0, -5.0], [-6.0, 2.0, 9.0], [2.0, -3.0, 2.0]])\n",
    "print(A)\n",
    "\n",
    "def lu(A):\n",
    "\n",
    "    cols,rows = A.shape\n",
    "\n",
    "    id_mat = np.zeros((cols,rows))\n",
    "    pivot = np.identity(cols)\n",
    "\n",
    "    print()\n",
    "\n",
    "    k = -1\n",
    "    for j in range(cols):\n",
    "        max = np.argmax(abs(A[:,j]))\n",
    "\n",
    "        if max != j & max !=k:\n",
    "            k = max\n",
    "            A[[j,max]] = A[[max,j]]\n",
    "            id_mat[[j,max]] = id_mat[[max,j]]\n",
    "            pivot[[j,max]] = pivot[[max,j]]\n",
    "\n",
    "        for i in range(j,cols - 1):\n",
    "            id_mat[i + 1, j] = A[i + 1, j] / A[j, j]\n",
    "            A[i+1, :] = A[i+1, :] - (A[i+1, j] / A[j, j]) * A[j, :]\n",
    "\n",
    "    np.fill_diagonal(id_mat,1)\n",
    "    return id_mat,A,pivot\n",
    "\n",
    "L,U,P = lu(A)\n",
    "print(L)\n",
    "print()\n",
    "print(U)\n",
    "print()\n",
    "print(P)"
   ]
  },
  {
   "cell_type": "code",
   "execution_count": 3,
   "metadata": {},
   "outputs": [],
   "source": [
    "import numpy as np\n",
    "\n",
    "# P.A.x = L.U.x\n",
    "#\n",
    "# L.U.x = P.b       ForwardSubs --> U.x = y --> L.y = P.b\n",
    "#                   BackWardSubs --> U.x = y\n",
    "#\n",
    "# y(i) = (b(i) - sum(A(i,j))/a(i,i)---> always 1\n",
    "\n",
    "def forwardSubs(L, b, P):\n",
    "    cols, rows = L.shape\n",
    "    if P is not None:\n",
    "        b = np.dot(P,b)\n",
    "    y = np.zeros((cols, 1))\n",
    "    for i in range(cols):\n",
    "        s = 0\n",
    "        for j in range(0,i):\n",
    "            s = s + L[i,j] * y[j]\n",
    "\n",
    "        y[i] = (b[i]-s)\n",
    "    return y\n",
    "\n",
    "def backwardSubs(U,y):\n",
    "    cols, rows = U.shape\n",
    "\n",
    "    x = np.zeros((cols, 1))\n",
    "    for i in range(cols-1,-1,-1):\n",
    "\n",
    "        s = 0\n",
    "        for j in range(0,cols):\n",
    "            s = s + U[i,j] * x[j]\n",
    "        x[i] = (1/ U[i,i])*(y[i] - s)\n",
    "    return x"
   ]
  },
  {
   "cell_type": "code",
   "execution_count": 5,
   "metadata": {},
   "outputs": [
    {
     "name": "stdout",
     "output_type": "stream",
     "text": [
      "[[-3.]\n [-0.]\n [ 4.]]\n"
     ]
    }
   ],
   "source": [
    "b = np.array([[-23,54,2]])\n",
    "b = b.T\n",
    "\n",
    "\n",
    "y = forwardSubs(L,b,P)\n",
    "print(backwardSubs(U,y))"
   ]
  },
  {
   "cell_type": "code",
   "execution_count": 1,
   "metadata": {},
   "outputs": [
    {
     "name": "stdout",
     "output_type": "stream",
     "text": [
      "[[ 16  -4 -12]\n [ -4   5   5]\n [-12   5  19]]\n[[ 4.  0.  0.]\n [-1.  2.  0.]\n [-3.  1.  3.]]\n"
     ]
    }
   ],
   "source": [
    "import numpy as np\n",
    "\n",
    "A = np.array([[16,-4,-12],[-4,5,5],[-12,5,19]])\n",
    "print(A)\n",
    "\n",
    "# A = L*L.T\n",
    "\n",
    "def cholesky(A):\n",
    "    rows,cols = A.shape\n",
    "\n",
    "    #Check if the matrix dimensions are equal\n",
    "    if rows != cols:\n",
    "        print('Matrix dimensions are not equal')\n",
    "\n",
    "    #Create n x n zeros matrix\n",
    "    L = np.zeros((rows,rows))\n",
    "\n",
    "    for i in range(0,rows):\n",
    "        #traverse only the left triangular matrix elements\n",
    "        for j in range (0,i+1):\n",
    "            if i == 0 and j ==0:\n",
    "                L[0,0] = np.sqrt(A[0,0])\n",
    "\n",
    "            else:\n",
    "                if j == i:\n",
    "                    s = 0\n",
    "                    for k in range(0,i):\n",
    "                        s = s + np.power(L[i,k],2)\n",
    "\n",
    "                    L[i,i] = np.sqrt(A[i,i]-s)\n",
    "                if j < i:\n",
    "                    s = 0\n",
    "                    for k in range (0,j):\n",
    "                        s = s + L[i,k] *L[j,k]\n",
    "\n",
    "                    L[i,j] = (1/ L[j,j]) *(A[i,j] -s)\n",
    "    return L\n",
    "\n",
    "print(cholesky(A))"
   ]
  },
  {
   "cell_type": "code",
   "execution_count": null,
   "metadata": {},
   "outputs": [],
   "source": [
    ""
   ]
  }
 ],
 "metadata": {
  "kernelspec": {
   "display_name": "Python 2",
   "language": "python",
   "name": "python2"
  },
  "language_info": {
   "codemirror_mode": {
    "name": "ipython",
    "version": 2
   },
   "file_extension": ".py",
   "mimetype": "text/x-python",
   "name": "python",
   "nbconvert_exporter": "python",
   "pygments_lexer": "ipython2",
   "version": "2.7.6"
  }
 },
 "nbformat": 4,
 "nbformat_minor": 0
}
